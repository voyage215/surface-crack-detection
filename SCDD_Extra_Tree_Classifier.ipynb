{
  "nbformat": 4,
  "nbformat_minor": 0,
  "metadata": {
    "colab": {
      "name": "SCDD-Extra-Tree-Classifier.ipynb",
      "provenance": []
    },
    "kernelspec": {
      "name": "python3",
      "display_name": "Python 3"
    }
  },
  "cells": [
    {
      "cell_type": "code",
      "metadata": {
        "id": "Qkf_IfhiVwNi"
      },
      "source": [
        "import matplotlib.pyplot as plt\n",
        "import seaborn as sns\n",
        "import numpy as np\n",
        "from sklearn.ensemble import ExtraTreesClassifier\n",
        "from sklearn.metrics import accuracy_score,classification_report,confusion_matrix"
      ],
      "execution_count": null,
      "outputs": []
    },
    {
      "cell_type": "code",
      "metadata": {
        "id": "G1NC8vtOWBa8"
      },
      "source": [
        "!cp '/content/drive/My Drive/data.csv' ./"
      ],
      "execution_count": null,
      "outputs": []
    },
    {
      "cell_type": "code",
      "metadata": {
        "id": "TRM_j-M-WB4x"
      },
      "source": [
        "import pandas as pd\n",
        "data = pd.read_csv('data.csv')"
      ],
      "execution_count": null,
      "outputs": []
    },
    {
      "cell_type": "code",
      "metadata": {
        "id": "jIUUSPnSWEYm"
      },
      "source": [
        "data = data.drop('Unnamed: 0',axis=1)"
      ],
      "execution_count": null,
      "outputs": []
    },
    {
      "cell_type": "code",
      "metadata": {
        "id": "dcNbsQwvWIIO"
      },
      "source": [
        "target = data['target']\n",
        "data = data.drop('target',axis=1)"
      ],
      "execution_count": null,
      "outputs": []
    },
    {
      "cell_type": "code",
      "metadata": {
        "colab": {
          "base_uri": "https://localhost:8080/"
        },
        "id": "Jk3NRKBrVy65",
        "outputId": "7276e531-e5ad-49b3-8e54-467e0f7b02b7"
      },
      "source": [
        "from sklearn.model_selection import train_test_split\n",
        "X_train, X_test, y_train, y_test = train_test_split(data, target, test_size = 0.3, random_state = 77)\n",
        "print (\"X_train: \", len(X_train))\n",
        "print(\"X_test: \", len(X_test))\n",
        "print(\"y_train: \", len(y_train))\n",
        "print(\"y_test: \", len(y_test))"
      ],
      "execution_count": null,
      "outputs": [
        {
          "output_type": "stream",
          "text": [
            "X_train:  28000\n",
            "X_test:  12000\n",
            "y_train:  28000\n",
            "y_test:  12000\n"
          ],
          "name": "stdout"
        }
      ]
    },
    {
      "cell_type": "code",
      "metadata": {
        "id": "i9UPRt7iYxrP"
      },
      "source": [
        "# This was a 500 DT code. Change to 1000DT.\n",
        "from sklearn.ensemble import ExtraTreesClassifier\n",
        "extc1 = ExtraTreesClassifier(n_estimators=1000, random_state=7,n_jobs=-1)\n",
        "extc1.fit(X_train,y_train)\n",
        "y_extc1 = extc1.predict(X_test)"
      ],
      "execution_count": null,
      "outputs": []
    },
    {
      "cell_type": "code",
      "metadata": {
        "colab": {
          "base_uri": "https://localhost:8080/",
          "height": 649
        },
        "id": "JQWCD3TgdegX",
        "outputId": "752710ab-8426-41b6-ff19-023ec8974725"
      },
      "source": [
        "print('Extra Tree accuracy score: ',accuracy_score(y_test,y_extc1))\n",
        "print('Extra Tree confusion matrix heatmap: \\n')\n",
        "plt.figure(figsize = (10,7))\n",
        "sns.heatmap(confusion_matrix(y_extc1, y_test),annot=True, annot_kws={\"size\": 16},fmt = \"d\")\n",
        "plt.show()\n",
        "print('Extra Tree classification report \\n',classification_report(y_test, y_extc1))"
      ],
      "execution_count": null,
      "outputs": [
        {
          "output_type": "stream",
          "text": [
            "Extra Tree accuracy score:  0.993\n",
            "Extra Tree confusion matrix heatmap: \n",
            "\n"
          ],
          "name": "stdout"
        },
        {
          "output_type": "display_data",
          "data": {
            "image/png": "[encoded data removed]",
            "text/plain": [
              "<Figure size 720x504 with 2 Axes>"
            ]
          },
          "metadata": {
            "tags": [],
            "needs_background": "light"
          }
        },
        {
          "output_type": "stream",
          "text": [
            "Extra Tree classification report \n",
            "               precision    recall  f1-score   support\n",
            "\n",
            "           0       0.99      0.99      0.99      5967\n",
            "           1       0.99      0.99      0.99      6033\n",
            "\n",
            "    accuracy                           0.99     12000\n",
            "   macro avg       0.99      0.99      0.99     12000\n",
            "weighted avg       0.99      0.99      0.99     12000\n",
            "\n"
          ],
          "name": "stdout"
        }
      ]
    },
    {
      "cell_type": "code",
      "metadata": {
        "id": "YJKhWGnJWSFZ"
      },
      "source": [
        "# This is cross validation with 100 DT, and 10 fold cv repeated 3 times. Change to 1000 DT\n",
        "from sklearn.ensemble import ExtraTreesClassifier\n",
        "extc = ExtraTreesClassifier(n_estimators=1000, random_state=77)\n",
        "#extc.fit(X_train,y_train)\n",
        "#_extc = extc.predict(X_test)"
      ],
      "execution_count": null,
      "outputs": []
    },
    {
      "cell_type": "code",
      "metadata": {
        "colab": {
          "base_uri": "https://localhost:8080/",
          "height": 71
        },
        "id": "a8xRshZjSxr_",
        "outputId": "49a45404-b95b-4d7d-faff-ac4b38160041"
      },
      "source": [
        "from numpy import mean,std\n",
        "from sklearn.model_selection import cross_val_score\n",
        "from sklearn.model_selection import RepeatedStratifiedKFold\n",
        "cv = RepeatedStratifiedKFold(n_splits=2, n_repeats=2, random_state=77)\n",
        "cvscores = cross_val_score(extc, data, target, scoring='accuracy', cv=cv, n_jobs=-1, error_score='raise')\n",
        "# report performance\n",
        "plt.plot(cvscores)\n",
        "plt.xlabel('Process Number')\n",
        "plt.ylabel('Accuracy')\n",
        "print('Accuracy: Mean -> %.3f Standard Deviation -> %.3f' % (mean(cvscores), std(cvscores)))"
      ],
      "execution_count": null,
      "outputs": [
        {
          "output_type": "stream",
          "text": [
            "Accuracy: Mean -> 0.991 Standard Deviation -> 0.000\n"
          ],
          "name": "stdout"
        },
        {
          "output_type": "display_data",
          "data": {
            "image/png": "[encoded data removed]",
            "text/plain": [
              "<Figure size 432x288 with 1 Axes>"
            ]
          },
          "metadata": {
            "tags": [],
            "needs_background": "light"
          }
        }
      ]
    },
    {
      "cell_type": "markdown",
      "metadata": {
        "id": "9s-hz-MGU2-r"
      },
      "source": [
        "Using gridsearch to find out the best n_estimators.\n"
      ]
    },
    {
      "cell_type": "code",
      "metadata": {
        "id": "pf0Z3aamU2M7"
      },
      "source": [
        "from sklearn.model_selection import GridSearchCV\n",
        "grid={\"n_estimators\": [10, 50, 100, 500, 1000]}\n",
        "model_et = ExtraTreesClassifier(random_state=77,n_jobs=-1)\n",
        "# without cv\n",
        "gridswocv = GridSearchCV(model_et,grid,verbose=3)"
      ],
      "execution_count": null,
      "outputs": []
    },
    {
      "cell_type": "code",
      "metadata": {
        "colab": {
          "base_uri": "https://localhost:8080/"
        },
        "id": "EbqKwFJVfa8N",
        "outputId": "48fd87a2-22a8-4817-e32a-63b6a7027951"
      },
      "source": [
        "gridswocv.fit(X_train,y_train)"
      ],
      "execution_count": null,
      "outputs": [
        {
          "output_type": "stream",
          "text": [
            "Fitting 5 folds for each of 5 candidates, totalling 25 fits\n",
            "[CV] n_estimators=10 .................................................\n"
          ],
          "name": "stdout"
        },
        {
          "output_type": "stream",
          "text": [
            "[Parallel(n_jobs=1)]: Using backend SequentialBackend with 1 concurrent workers.\n"
          ],
          "name": "stderr"
        },
        {
          "output_type": "stream",
          "text": [
            "[CV] .................................. n_estimators=10, total=   4.9s\n",
            "[CV] n_estimators=10 .................................................\n"
          ],
          "name": "stdout"
        },
        {
          "output_type": "stream",
          "text": [
            "[Parallel(n_jobs=1)]: Done   1 out of   1 | elapsed:    4.9s remaining:    0.0s\n"
          ],
          "name": "stderr"
        },
        {
          "output_type": "stream",
          "text": [
            "[CV] .................................. n_estimators=10, total=   4.1s\n",
            "[CV] n_estimators=10 .................................................\n",
            "[CV] .................................. n_estimators=10, total=   4.1s\n",
            "[CV] n_estimators=10 .................................................\n",
            "[CV] .................................. n_estimators=10, total=   4.0s\n",
            "[CV] n_estimators=10 .................................................\n",
            "[CV] .................................. n_estimators=10, total=   4.0s\n",
            "[CV] n_estimators=50 .................................................\n",
            "[CV] .................................. n_estimators=50, total=  17.8s\n",
            "[CV] n_estimators=50 .................................................\n",
            "[CV] .................................. n_estimators=50, total=  18.0s\n",
            "[CV] n_estimators=50 .................................................\n",
            "[CV] .................................. n_estimators=50, total=  17.6s\n",
            "[CV] n_estimators=50 .................................................\n",
            "[CV] .................................. n_estimators=50, total=  17.7s\n",
            "[CV] n_estimators=50 .................................................\n",
            "[CV] .................................. n_estimators=50, total=  17.6s\n",
            "[CV] n_estimators=100 ................................................\n",
            "[CV] ................................. n_estimators=100, total=  34.8s\n",
            "[CV] n_estimators=100 ................................................\n",
            "[CV] ................................. n_estimators=100, total=  35.3s\n",
            "[CV] n_estimators=100 ................................................\n",
            "[CV] ................................. n_estimators=100, total=  34.9s\n",
            "[CV] n_estimators=100 ................................................\n",
            "[CV] ................................. n_estimators=100, total=  34.5s\n",
            "[CV] n_estimators=100 ................................................\n",
            "[CV] ................................. n_estimators=100, total=  34.4s\n",
            "[CV] n_estimators=500 ................................................\n",
            "[CV] ................................. n_estimators=500, total= 2.9min\n",
            "[CV] n_estimators=500 ................................................\n",
            "[CV] ................................. n_estimators=500, total= 2.9min\n",
            "[CV] n_estimators=500 ................................................\n",
            "[CV] ................................. n_estimators=500, total= 2.9min\n",
            "[CV] n_estimators=500 ................................................\n",
            "[CV] ................................. n_estimators=500, total= 2.9min\n",
            "[CV] n_estimators=500 ................................................\n",
            "[CV] ................................. n_estimators=500, total= 2.9min\n",
            "[CV] n_estimators=1000 ...............................................\n",
            "[CV] ................................ n_estimators=1000, total= 5.7min\n",
            "[CV] n_estimators=1000 ...............................................\n",
            "[CV] ................................ n_estimators=1000, total= 5.8min\n",
            "[CV] n_estimators=1000 ...............................................\n",
            "[CV] ................................ n_estimators=1000, total= 5.7min\n",
            "[CV] n_estimators=1000 ...............................................\n",
            "[CV] ................................ n_estimators=1000, total= 5.7min\n",
            "[CV] n_estimators=1000 ...............................................\n",
            "[CV] ................................ n_estimators=1000, total= 5.7min\n"
          ],
          "name": "stdout"
        },
        {
          "output_type": "stream",
          "text": [
            "[Parallel(n_jobs=1)]: Done  25 out of  25 | elapsed: 47.7min finished\n"
          ],
          "name": "stderr"
        },
        {
          "output_type": "execute_result",
          "data": {
            "text/plain": [
              "GridSearchCV(cv=None, error_score=nan,\n",
              "             estimator=ExtraTreesClassifier(bootstrap=False, ccp_alpha=0.0,\n",
              "                                            class_weight=None, criterion='gini',\n",
              "                                            max_depth=None, max_features='auto',\n",
              "                                            max_leaf_nodes=None,\n",
              "                                            max_samples=None,\n",
              "                                            min_impurity_decrease=0.0,\n",
              "                                            min_impurity_split=None,\n",
              "                                            min_samples_leaf=1,\n",
              "                                            min_samples_split=2,\n",
              "                                            min_weight_fraction_leaf=0.0,\n",
              "                                            n_estimators=100, n_jobs=-1,\n",
              "                                            oob_score=False, random_state=77,\n",
              "                                            verbose=0, warm_start=False),\n",
              "             iid='deprecated', n_jobs=None,\n",
              "             param_grid={'n_estimators': [10, 50, 100, 500, 1000]},\n",
              "             pre_dispatch='2*n_jobs', refit=True, return_train_score=False,\n",
              "             scoring=None, verbose=2)"
            ]
          },
          "metadata": {
            "tags": []
          },
          "execution_count": 17
        }
      ]
    },
    {
      "cell_type": "code",
      "metadata": {
        "colab": {
          "base_uri": "https://localhost:8080/"
        },
        "id": "maRgMZDrus4o",
        "outputId": "bc777dcb-816a-4978-be57-ee5966a3d728"
      },
      "source": [
        "gridswocv.cv_results_"
      ],
      "execution_count": null,
      "outputs": [
        {
          "output_type": "execute_result",
          "data": {
            "text/plain": [
              "{'mean_fit_time': array([  4.05967379,  17.507301  ,  34.45093889, 171.54671369,\n",
              "        340.71992331]),\n",
              " 'mean_score_time': array([0.13237858, 0.23233399, 0.31295691, 1.13430567, 2.15929456]),\n",
              " 'mean_test_score': array([0.98653571, 0.99110714, 0.99092857, 0.99142857, 0.99153571]),\n",
              " 'param_n_estimators': masked_array(data=[10, 50, 100, 500, 1000],\n",
              "              mask=[False, False, False, False, False],\n",
              "        fill_value='?',\n",
              "             dtype=object),\n",
              " 'params': [{'n_estimators': 10},\n",
              "  {'n_estimators': 50},\n",
              "  {'n_estimators': 100},\n",
              "  {'n_estimators': 500},\n",
              "  {'n_estimators': 1000}],\n",
              " 'rank_test_score': array([5, 3, 4, 2, 1], dtype=int32),\n",
              " 'split0_test_score': array([0.98571429, 0.99160714, 0.99071429, 0.99142857, 0.99125   ]),\n",
              " 'split1_test_score': array([0.9875    , 0.99089286, 0.99125   , 0.99160714, 0.99178571]),\n",
              " 'split2_test_score': array([0.98678571, 0.99017857, 0.99035714, 0.99142857, 0.99196429]),\n",
              " 'split3_test_score': array([0.98678571, 0.99160714, 0.99107143, 0.99071429, 0.99071429]),\n",
              " 'split4_test_score': array([0.98589286, 0.99125   , 0.99125   , 0.99196429, 0.99196429]),\n",
              " 'std_fit_time': array([0.3370913 , 0.16916258, 0.33810465, 1.29972195, 1.86947026]),\n",
              " 'std_score_time': array([0.00048394, 0.00023409, 0.04050019, 0.00019974, 0.03930858]),\n",
              " 'std_test_score': array([0.00065465, 0.00053452, 0.00034626, 0.00040721, 0.00048708])}"
            ]
          },
          "metadata": {
            "tags": []
          },
          "execution_count": 18
        }
      ]
    },
    {
      "cell_type": "code",
      "metadata": {
        "colab": {
          "base_uri": "https://localhost:8080/",
          "height": 265
        },
        "id": "D8f3b37BvTkx",
        "outputId": "d4acb48c-099a-4309-a14d-cdc1ce417c32"
      },
      "source": [
        "results = []\n",
        "names = []\n",
        "for i in range(0,5):\n",
        "  stri = 'split'+str(i)+'_test_score'\n",
        "  names.append(str(i))\n",
        "  results.append(gridswocv.cv_results_[stri])\n",
        "plt.boxplot(results,labels = names, showmeans=True)\n",
        "plt.show()"
      ],
      "execution_count": null,
      "outputs": [
        {
          "output_type": "display_data",
          "data": {
            "image/png": "[encoded data removed]",
            "text/plain": [
              "<Figure size 432x288 with 1 Axes>"
            ]
          },
          "metadata": {
            "tags": [],
            "needs_background": "light"
          }
        }
      ]
    },
    {
      "cell_type": "code",
      "metadata": {
        "colab": {
          "base_uri": "https://localhost:8080/",
          "height": 649
        },
        "id": "9zehH-6zW14a",
        "outputId": "7bf295ea-4eed-4b0d-daaf-4620baf87518"
      },
      "source": [
        "#This is for 100 DT withput CV\n",
        "print('Extra Tree accuracy score: ',accuracy_score(y_test,y_extc))\n",
        "print('Extra Tree confusion matrix heatmap: \\n')\n",
        "plt.figure(figsize = (10,7))\n",
        "sns.heatmap(confusion_matrix(y_extc, y_test),annot=True, annot_kws={\"size\": 16},fmt = \"d\")\n",
        "plt.show()\n",
        "print('Extra Tree classification report \\n',classification_report(y_test, y_extc))"
      ],
      "execution_count": null,
      "outputs": [
        {
          "output_type": "stream",
          "text": [
            "Extra Tree accuracy score:  0.9924166666666666\n",
            "Extra Tree confusion matrix heatmap: \n",
            "\n"
          ],
          "name": "stdout"
        },
        {
          "output_type": "display_data",
          "data": {
            "image/png": "[encoded data removed]",
            "text/plain": [
              "<Figure size 720x504 with 2 Axes>"
            ]
          },
          "metadata": {
            "tags": [],
            "needs_background": "light"
          }
        },
        {
          "output_type": "stream",
          "text": [
            "Extra Tree classification report \n",
            "               precision    recall  f1-score   support\n",
            "\n",
            "           0       0.99      0.99      0.99      5967\n",
            "           1       0.99      0.99      0.99      6033\n",
            "\n",
            "    accuracy                           0.99     12000\n",
            "   macro avg       0.99      0.99      0.99     12000\n",
            "weighted avg       0.99      0.99      0.99     12000\n",
            "\n"
          ],
          "name": "stdout"
        }
      ]
    }
  ]
}